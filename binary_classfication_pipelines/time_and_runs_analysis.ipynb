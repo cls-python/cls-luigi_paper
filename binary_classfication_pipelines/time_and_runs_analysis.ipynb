{
 "cells": [
  {
   "cell_type": "code",
   "execution_count": 2,
   "id": "initial_id",
   "metadata": {
    "collapsed": true,
    "ExecuteTime": {
     "end_time": "2024-01-31T15:00:59.637077464Z",
     "start_time": "2024-01-31T15:00:59.407739819Z"
    }
   },
   "outputs": [],
   "source": [
    "import pandas as pd\n",
    "import json\n",
    "from os.path import join as pjoin\n",
    "from os import listdir\n",
    "from statistics import median"
   ]
  },
  {
   "cell_type": "code",
   "execution_count": 3,
   "id": "81c20ce629a61ce3",
   "metadata": {
    "collapsed": false,
    "ExecuteTime": {
     "end_time": "2024-01-31T15:00:59.680487064Z",
     "start_time": "2024-01-31T15:00:59.679501337Z"
    }
   },
   "outputs": [],
   "source": [
    "feature_preprocs = [\n",
    "    \"SKLFastICA\",\n",
    "    \"SKLFeatureAgglomeration\",\n",
    "    \"SKLKernelPCA\",\n",
    "    \"SKLNystroem\",\n",
    "    \"SKLPCA\",\n",
    "    \"SKLPolynomialFeatures\",\n",
    "    \"SKLRandomTreesEmbedding\",\n",
    "    \"SKLRBFSampler\",\n",
    "    \"SKLSelectFromExtraTrees\",\n",
    "    \"SKLSelectFromLinearSVC\",\n",
    "    \"SKLSelectPercentile\",\n",
    "    \"SKLSelectRates\"\n",
    "]\n",
    "\n",
    "\n",
    "scalers = [\n",
    "    \"SKLMinMaxScaler\",\n",
    "    \"SKLNormalizer\",\n",
    "    \"SKLPowerTransformer\",\n",
    "    \"SKLQuantileTransformer\",\n",
    "    \"SKLRobustScaler\",\n",
    "    \"SKLStandardScaler\"\n",
    "]\n",
    "\n",
    "imputers = [\n",
    "    \"SKLSimpleImpute\"\n",
    "    ]\n",
    "\n"
   ]
  },
  {
   "cell_type": "code",
   "execution_count": 4,
   "id": "3ad91457b9deca3e",
   "metadata": {
    "collapsed": false,
    "ExecuteTime": {
     "end_time": "2024-01-31T15:00:59.681163522Z",
     "start_time": "2024-01-31T15:00:59.679781699Z"
    }
   },
   "outputs": [],
   "source": [
    "def load_josn(path):\n",
    "    with open(path, 'r') as f:\n",
    "        return json.load(f)"
   ]
  },
  {
   "cell_type": "code",
   "execution_count": 5,
   "id": "a52d4e7f",
   "metadata": {
    "ExecuteTime": {
     "end_time": "2024-01-31T15:00:59.681669601Z",
     "start_time": "2024-01-31T15:00:59.679998283Z"
    }
   },
   "outputs": [],
   "source": [
    "\n",
    "def get_node_average_run_time_and_count(node_name, ds, mean=True):\n",
    "    run_times = []\n",
    "\n",
    "    dataset_path = pjoin(\"results\", ds)\n",
    "    for file in listdir(dataset_path):\n",
    "        if file.endswith(\"run_time.json\") and node_name in file:\n",
    "            run_times.append(\n",
    "                load_josn(pjoin(dataset_path, file))[\"total_seconds\"])\n",
    "    \n",
    "\n",
    "    if len(run_times) == 0:\n",
    "        return 0, 0 \n",
    "    \n",
    "    if mean:\n",
    "        average = sum(run_times) / len(run_times)\n",
    "    else:\n",
    "        average = median(run_times)\n",
    "    return average, len(run_times)"
   ]
  },
  {
   "cell_type": "code",
   "execution_count": 6,
   "id": "b1832662",
   "metadata": {
    "ExecuteTime": {
     "end_time": "2024-01-31T15:00:59.682526300Z",
     "start_time": "2024-01-31T15:00:59.680123958Z"
    }
   },
   "outputs": [],
   "source": [
    "def get_saved_run_time_and_count_and_acutal_run_count(node_name, node_type , ds, ds_run_history_df, mean=True):\n",
    "    avg_run_time, run_count  = get_node_average_run_time_and_count(node_name, ds, mean=mean)\n",
    "\n",
    "    in_pipeline_count = ds_run_history_df[\n",
    "        (ds_run_history_df[node_type] == node_name) &\n",
    "        (ds_run_history_df[\"status\"] ==\"success\")\n",
    "        ].shape[0]\n",
    "    \n",
    "    saved_run_time = (avg_run_time * in_pipeline_count) - (avg_run_time * run_count)\n",
    "    saved_runs = in_pipeline_count - run_count\n",
    "\n",
    "    return saved_run_time, saved_runs, run_count\n",
    "\n",
    "\n",
    "    "
   ]
  },
  {
   "cell_type": "code",
   "execution_count": 7,
   "id": "b0b2f8a9",
   "metadata": {
    "ExecuteTime": {
     "end_time": "2024-01-31T15:00:59.687668968Z",
     "start_time": "2024-01-31T15:00:59.680374579Z"
    }
   },
   "outputs": [],
   "source": [
    "def get_savings_and_actual_run_info(ds_name, mean=True):\n",
    "\n",
    "    ds_rh = pd.read_csv(f\"run_histories/{ds_name}_train_run_history.csv\")\n",
    "\n",
    "    saving = {}\n",
    "    actual = {}\n",
    "\n",
    "    saving[\"imputer_total_saved_time\"] = 0\n",
    "    saving[\"imputer_total_saved_runs\"] = 0\n",
    "    actual[\"imputer_actual_run_times\"] = 0\n",
    "\n",
    "\n",
    "    for imputer in imputers:\n",
    "        imp_saved_time, imp_saved_runs, imp_run_count = get_saved_run_time_and_count_and_acutal_run_count(imputer, \"imputer\", ds_name, ds_rh, mean=mean)\n",
    "        saving[\"imputer_total_saved_time\"]  += imp_saved_time\n",
    "        saving[\"imputer_total_saved_runs\"] += imp_saved_runs\n",
    "        actual[\"imputer_actual_run_times\"] += imp_run_count\n",
    "\n",
    "\n",
    "    saving[\"scaler_total_saved_sec\"] = 0\n",
    "    saving[\"scaler_total_saved_runs\"] = 0\n",
    "    actual[\"scaler_actual_run_times\"] = 0\n",
    "\n",
    "    for scaler in scalers:\n",
    "        scaler_saved_time, scaler_saved_runs, scaler_run_count = get_saved_run_time_and_count_and_acutal_run_count(scaler, \"scaler\", ds_name, ds_rh, mean=mean)\n",
    "        saving[\"scaler_total_saved_sec\"] += scaler_saved_time\n",
    "        saving[\"scaler_total_saved_runs\"] += scaler_saved_runs\n",
    "        actual[\"scaler_actual_run_times\"] += scaler_run_count\n",
    "\n",
    "\n",
    "    saving[\"feature_preproc_total_saved_sec\"] = 0\n",
    "    saving[\"feature_preproc_total_saved_runs\"] = 0\n",
    "    actual[\"feature_preproc_actual_run_times\"] = 0\n",
    "\n",
    "    for feature_preproc in feature_preprocs:\n",
    "        fp_saved_time, fp_saved_runs, fp_run_count = get_saved_run_time_and_count_and_acutal_run_count(feature_preproc, \"feature_preprocessor\", ds_name, ds_rh, mean=mean)\n",
    "        saving[\"feature_preproc_total_saved_sec\"] += fp_saved_time\n",
    "        saving[\"feature_preproc_total_saved_runs\"] += fp_saved_runs\n",
    "        actual[\"feature_preproc_actual_run_times\"] += fp_run_count\n",
    "\n",
    "\n",
    "    saving[\"total_saved_sec\"] = saving[\"scaler_total_saved_sec\"] + saving[\"imputer_total_saved_time\"] + saving[\"feature_preproc_total_saved_sec\"]\n",
    "    saving[\"total_saved_runs\"] = saving[\"scaler_total_saved_runs\"] + saving[\"imputer_total_saved_runs\"] + saving[\"feature_preproc_total_saved_runs\"]\n",
    "\n",
    "    return saving, actual\n",
    "\n",
    "\n",
    "def get_total_run_sec(ds_name):\n",
    "    return load_josn(f\"logs/{ds_name}_train_time.json\")[\"total_seconds\"]\n",
    "\n",
    "\n"
   ]
  },
  {
   "cell_type": "code",
   "execution_count": 8,
   "id": "7a9dfbe4",
   "metadata": {
    "ExecuteTime": {
     "end_time": "2024-01-31T15:00:59.696598432Z",
     "start_time": "2024-01-31T15:00:59.689874594Z"
    }
   },
   "outputs": [],
   "source": [
    "def make_summary_saving_dataframe(datasets, mean=True):\n",
    "\n",
    "    dataset = []\n",
    "    imputer_total_saved_sec = []\n",
    "    imputer_total_saved_runs = []\n",
    "    imputer_total_runs = []\n",
    "\n",
    "    scaler_total_saved_sec = []\n",
    "    scaler_total_saved_runs = []\n",
    "    scaler_total_runs = []\n",
    "\n",
    "    feature_preproc_total_saved_sec = []\n",
    "    feature_preproc_total_saved_runs = []\n",
    "    feature_preproc_total_runs = []\n",
    "\n",
    "    total_saved_sec = []\n",
    "    total_saved_runs = []\n",
    "\n",
    "\n",
    "    total_run_sec = []\n",
    "\n",
    "\n",
    "\n",
    "    for ds in datasets:\n",
    "        \n",
    "        ds_savings, ds_actual = get_savings_and_actual_run_info(ds, mean=mean)\n",
    "        imputer_total_saved_sec.append(ds_savings[\"imputer_total_saved_time\"])\n",
    "        imputer_total_saved_runs.append(ds_savings[\"imputer_total_saved_runs\"])\n",
    "\n",
    "        scaler_total_saved_sec.append(ds_savings[\"scaler_total_saved_sec\"])\n",
    "        scaler_total_saved_runs.append(ds_savings[\"scaler_total_saved_runs\"])\n",
    "        \n",
    "        feature_preproc_total_saved_sec.append(ds_savings[\"feature_preproc_total_saved_sec\"])\n",
    "        feature_preproc_total_saved_runs.append(ds_savings[\"feature_preproc_total_saved_runs\"])\n",
    "\n",
    "        total_saved_sec.append(ds_savings[\"total_saved_sec\"])\n",
    "        total_saved_runs.append(ds_savings[\"total_saved_runs\"])\n",
    "\n",
    "        total_run_sec.append(get_total_run_sec(ds))\n",
    "\n",
    "        imputer_total_runs.append(ds_actual[\"imputer_actual_run_times\"])\n",
    "        scaler_total_runs.append(ds_actual[\"scaler_actual_run_times\"])\n",
    "        feature_preproc_total_runs.append(ds_actual[\"feature_preproc_actual_run_times\"])\n",
    "\n",
    "\n",
    "\n",
    "\n",
    "    df = pd.DataFrame()\n",
    "\n",
    "\n",
    "    df[\"dataset\"] = datasets\n",
    "    df[\"imputer_total_runs\"] = imputer_total_runs\n",
    "    df[\"scaler_total_runs\"] = scaler_total_runs\n",
    "    df[\"feature_preproc_total_runs\"] = feature_preproc_total_runs\n",
    "    df[\"total_run_sec\"] = total_run_sec\n",
    "\n",
    "\n",
    "\n",
    "    df[\"imputer_total_saved_sec\"] = imputer_total_saved_sec\n",
    "    df[\"imputer_total_saved_runs\"] = imputer_total_saved_runs\n",
    "\n",
    "    df[\"scaler_total_saved_sec\"] = scaler_total_saved_sec\n",
    "    df[\"scaler_total_saved_runs\"] = scaler_total_saved_runs\n",
    "\n",
    "    df[\"feature_preproc_total_saved_sec\"] = feature_preproc_total_saved_sec\n",
    "    df[\"feature_preproc_total_saved_runs\"] = feature_preproc_total_saved_runs\n",
    "\n",
    "    df[\"total_saved_sec\"] = total_saved_sec\n",
    "    df[\"total_saved_runs\"] = total_saved_runs\n",
    "\n",
    "    df[\"time_saving_percent\"] = df[\"total_saved_sec\"] / df[\"total_run_sec\"] * 100\n",
    "\n",
    "    return df\n",
    "\n",
    "\n"
   ]
  },
  {
   "cell_type": "code",
   "execution_count": 9,
   "id": "45af1ac9b157cb8e",
   "metadata": {
    "collapsed": false,
    "ExecuteTime": {
     "end_time": "2024-01-31T15:00:59.742008671Z",
     "start_time": "2024-01-31T15:00:59.697472109Z"
    }
   },
   "outputs": [],
   "source": [
    "datasets = [\n",
    "        \"steel-plates-fault\",\n",
    "        \"qsar-biodeg\",\n",
    "        \"phoneme\",\n",
    "    \n",
    "]\n",
    "\n"
   ]
  },
  {
   "cell_type": "code",
   "execution_count": 10,
   "id": "420edf84",
   "metadata": {
    "ExecuteTime": {
     "end_time": "2024-01-31T15:00:59.863265390Z",
     "start_time": "2024-01-31T15:00:59.741932265Z"
    }
   },
   "outputs": [
    {
     "data": {
      "text/plain": "              dataset  imputer_total_runs  scaler_total_runs  \\\n0  steel-plates-fault                   1                  6   \n1         qsar-biodeg                   1                  6   \n2             phoneme                   1                  6   \n\n   feature_preproc_total_runs  total_run_sec  imputer_total_saved_sec  \\\n0                          84     145.524329                 9.097568   \n1                          84     139.546442                 8.193398   \n2                          77     211.737949                 7.017960   \n\n   imputer_total_saved_runs  scaler_total_saved_sec  scaler_total_saved_runs  \\\n0                      1078               19.275208                      923   \n1                      1080               14.328483                      920   \n2                      1042               15.349600                      888   \n\n   feature_preproc_total_saved_sec  feature_preproc_total_saved_runs  \\\n0                        62.434505                               890   \n1                        62.384160                               892   \n2                        35.898960                               861   \n\n   total_saved_sec  total_saved_runs  time_saving_percent  \n0        90.807282              2891            62.400069  \n1        84.906041              2892            60.844289  \n2        58.266520              2791            27.518222  ",
      "text/html": "<div>\n<style scoped>\n    .dataframe tbody tr th:only-of-type {\n        vertical-align: middle;\n    }\n\n    .dataframe tbody tr th {\n        vertical-align: top;\n    }\n\n    .dataframe thead th {\n        text-align: right;\n    }\n</style>\n<table border=\"1\" class=\"dataframe\">\n  <thead>\n    <tr style=\"text-align: right;\">\n      <th></th>\n      <th>dataset</th>\n      <th>imputer_total_runs</th>\n      <th>scaler_total_runs</th>\n      <th>feature_preproc_total_runs</th>\n      <th>total_run_sec</th>\n      <th>imputer_total_saved_sec</th>\n      <th>imputer_total_saved_runs</th>\n      <th>scaler_total_saved_sec</th>\n      <th>scaler_total_saved_runs</th>\n      <th>feature_preproc_total_saved_sec</th>\n      <th>feature_preproc_total_saved_runs</th>\n      <th>total_saved_sec</th>\n      <th>total_saved_runs</th>\n      <th>time_saving_percent</th>\n    </tr>\n  </thead>\n  <tbody>\n    <tr>\n      <th>0</th>\n      <td>steel-plates-fault</td>\n      <td>1</td>\n      <td>6</td>\n      <td>84</td>\n      <td>145.524329</td>\n      <td>9.097568</td>\n      <td>1078</td>\n      <td>19.275208</td>\n      <td>923</td>\n      <td>62.434505</td>\n      <td>890</td>\n      <td>90.807282</td>\n      <td>2891</td>\n      <td>62.400069</td>\n    </tr>\n    <tr>\n      <th>1</th>\n      <td>qsar-biodeg</td>\n      <td>1</td>\n      <td>6</td>\n      <td>84</td>\n      <td>139.546442</td>\n      <td>8.193398</td>\n      <td>1080</td>\n      <td>14.328483</td>\n      <td>920</td>\n      <td>62.384160</td>\n      <td>892</td>\n      <td>84.906041</td>\n      <td>2892</td>\n      <td>60.844289</td>\n    </tr>\n    <tr>\n      <th>2</th>\n      <td>phoneme</td>\n      <td>1</td>\n      <td>6</td>\n      <td>77</td>\n      <td>211.737949</td>\n      <td>7.017960</td>\n      <td>1042</td>\n      <td>15.349600</td>\n      <td>888</td>\n      <td>35.898960</td>\n      <td>861</td>\n      <td>58.266520</td>\n      <td>2791</td>\n      <td>27.518222</td>\n    </tr>\n  </tbody>\n</table>\n</div>"
     },
     "execution_count": 10,
     "metadata": {},
     "output_type": "execute_result"
    }
   ],
   "source": [
    "saving  = make_summary_saving_dataframe(datasets, mean=True)\n",
    "\n",
    "\n",
    "saving"
   ]
  },
  {
   "cell_type": "code",
   "execution_count": 11,
   "id": "5197dfeb",
   "metadata": {
    "ExecuteTime": {
     "end_time": "2024-01-31T15:01:00.006901435Z",
     "start_time": "2024-01-31T15:00:59.861377007Z"
    }
   },
   "outputs": [
    {
     "data": {
      "text/plain": "              dataset  imputer_total_runs  scaler_total_runs  \\\n0  steel-plates-fault                   1                  6   \n1         qsar-biodeg                   1                  6   \n2             phoneme                   1                  6   \n\n   feature_preproc_total_runs  total_run_sec  imputer_total_saved_sec  \\\n0                          84     145.524329                 9.097568   \n1                          84     139.546442                 8.193398   \n2                          77     211.737949                 7.017960   \n\n   imputer_total_saved_runs  scaler_total_saved_sec  scaler_total_saved_runs  \\\n0                      1078               19.275208                      923   \n1                      1080               14.328483                      920   \n2                      1042               15.349600                      888   \n\n   feature_preproc_total_saved_sec  feature_preproc_total_saved_runs  \\\n0                        63.239068                               890   \n1                        64.488561                               892   \n2                        33.351025                               861   \n\n   total_saved_sec  total_saved_runs  time_saving_percent  \n0        91.611845              2891            62.952941  \n1        87.010442              2892            62.352319  \n2        55.718585              2791            26.314879  ",
      "text/html": "<div>\n<style scoped>\n    .dataframe tbody tr th:only-of-type {\n        vertical-align: middle;\n    }\n\n    .dataframe tbody tr th {\n        vertical-align: top;\n    }\n\n    .dataframe thead th {\n        text-align: right;\n    }\n</style>\n<table border=\"1\" class=\"dataframe\">\n  <thead>\n    <tr style=\"text-align: right;\">\n      <th></th>\n      <th>dataset</th>\n      <th>imputer_total_runs</th>\n      <th>scaler_total_runs</th>\n      <th>feature_preproc_total_runs</th>\n      <th>total_run_sec</th>\n      <th>imputer_total_saved_sec</th>\n      <th>imputer_total_saved_runs</th>\n      <th>scaler_total_saved_sec</th>\n      <th>scaler_total_saved_runs</th>\n      <th>feature_preproc_total_saved_sec</th>\n      <th>feature_preproc_total_saved_runs</th>\n      <th>total_saved_sec</th>\n      <th>total_saved_runs</th>\n      <th>time_saving_percent</th>\n    </tr>\n  </thead>\n  <tbody>\n    <tr>\n      <th>0</th>\n      <td>steel-plates-fault</td>\n      <td>1</td>\n      <td>6</td>\n      <td>84</td>\n      <td>145.524329</td>\n      <td>9.097568</td>\n      <td>1078</td>\n      <td>19.275208</td>\n      <td>923</td>\n      <td>63.239068</td>\n      <td>890</td>\n      <td>91.611845</td>\n      <td>2891</td>\n      <td>62.952941</td>\n    </tr>\n    <tr>\n      <th>1</th>\n      <td>qsar-biodeg</td>\n      <td>1</td>\n      <td>6</td>\n      <td>84</td>\n      <td>139.546442</td>\n      <td>8.193398</td>\n      <td>1080</td>\n      <td>14.328483</td>\n      <td>920</td>\n      <td>64.488561</td>\n      <td>892</td>\n      <td>87.010442</td>\n      <td>2892</td>\n      <td>62.352319</td>\n    </tr>\n    <tr>\n      <th>2</th>\n      <td>phoneme</td>\n      <td>1</td>\n      <td>6</td>\n      <td>77</td>\n      <td>211.737949</td>\n      <td>7.017960</td>\n      <td>1042</td>\n      <td>15.349600</td>\n      <td>888</td>\n      <td>33.351025</td>\n      <td>861</td>\n      <td>55.718585</td>\n      <td>2791</td>\n      <td>26.314879</td>\n    </tr>\n  </tbody>\n</table>\n</div>"
     },
     "execution_count": 11,
     "metadata": {},
     "output_type": "execute_result"
    }
   ],
   "source": [
    "\n",
    "make_summary_saving_dataframe(datasets, mean=False) # median is used instead of mean"
   ]
  },
  {
   "cell_type": "code",
   "execution_count": 11,
   "outputs": [],
   "source": [],
   "metadata": {
    "collapsed": false,
    "ExecuteTime": {
     "end_time": "2024-01-31T15:01:00.048932163Z",
     "start_time": "2024-01-31T15:01:00.005886972Z"
    }
   },
   "id": "c50d169e48ba04ef"
  }
 ],
 "metadata": {
  "kernelspec": {
   "display_name": "Python 3",
   "language": "python",
   "name": "python3"
  },
  "language_info": {
   "codemirror_mode": {
    "name": "ipython",
    "version": 3
   },
   "file_extension": ".py",
   "mimetype": "text/x-python",
   "name": "python",
   "nbconvert_exporter": "python",
   "pygments_lexer": "ipython3",
   "version": "3.11.6"
  }
 },
 "nbformat": 4,
 "nbformat_minor": 5
}
